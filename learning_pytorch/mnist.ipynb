{
 "cells": [
  {
   "cell_type": "markdown",
   "id": "16734994",
   "metadata": {},
   "source": [
    "# MNIST With Pytorch: First steps\n",
    "In this notebook, we aim to learn the basics of PyTorch for computer vision using the famous MNIST dataset—an image classification task involving handwritten digits (0 to 9). \n",
    "\n",
    "**We will not focus on architecture choices, but on framework implementation and concepts understanding**."
   ]
  },
  {
   "cell_type": "markdown",
   "id": "193d8f86",
   "metadata": {},
   "source": [
    "## The Data\n",
    "To pull the data, we need to go through the following steps:\n",
    "1. Download the dataset;\n",
    "2. Divide in training and test data(for further validation);\n",
    "3. Preprocessing;\n",
    "\n",
    "### 1. Download the dataset\n",
    "MNIST is alwready availabel with *torchvision.datasets*. It can be downloaded with the `datasets.MNIST` class. With this class, we can use a handy pipeline that downloads MNIST, saves it at a local directory, defines if it is for training or validation, and apply a preprocessing.\n",
    "\n",
    "### 2. Divide in training and test data\n",
    "It is necessary to divide the dataset into training part and test part to ensure that no test data interferes with training (causing data leakage). To do this, we can use the `DataLoader` class, passing the data, the batch size (for further training) and shuffle to training data. Shuffle is important to garantee that the model will not learn a sequential pattern of the dataset.\n",
    "\n",
    "### 3. Preprocessing\n",
    "With this dataset, we applied a pipeline with `ToTensor()` to transform image data to tensors with values between [0, 1], and `Normalize((0,), (1,))` to normalize with **mean=0** and **std=1** (a commum practice to speed up traning)."
   ]
  },
  {
   "cell_type": "code",
   "execution_count": 1,
   "id": "eecd4443",
   "metadata": {},
   "outputs": [],
   "source": [
    "\n",
    "# Imports\n",
    "import torch\n",
    "from torchvision import datasets, transforms\n",
    "from torch.utils.data import DataLoader\n",
    "\n",
    "# Defines transform pipeline\n",
    "transform = transforms.Compose([\n",
    "    transforms.ToTensor(),\n",
    "    transforms.Normalize((0,), (1,))\n",
    "])\n",
    "\n",
    "# Download and transform\n",
    "train_dataset = datasets.MNIST(\n",
    "    root='./data', train=True, download=True, transform=transform\n",
    ")\n",
    "test_dataset = datasets.MNIST(\n",
    "    root='./data', train=False, download=True, transform=transform\n",
    ")\n",
    "\n",
    "# DataLoaders\n",
    "train_loader = DataLoader(train_dataset, batch_size=64, shuffle=True)\n",
    "test_loader = DataLoader(test_dataset, batch_size=64, shuffle=False)"
   ]
  },
  {
   "cell_type": "markdown",
   "id": "ee4b7663",
   "metadata": {},
   "source": [
    "## Visualizing\n",
    "We can use matplotlib to visualize some example images."
   ]
  },
  {
   "cell_type": "code",
   "execution_count": 2,
   "id": "f53edaa2",
   "metadata": {},
   "outputs": [
    {
     "data": {
      "image/png": "[encoded data removed]",
      "text/plain": [
       "<Figure size 1000x200 with 5 Axes>"
      ]
     },
     "metadata": {},
     "output_type": "display_data"
    }
   ],
   "source": [
    "import matplotlib.pyplot as plt\n",
    "\n",
    "# Function to plot images with its lables\n",
    "def show_images(images, labels):\n",
    "    fig, axes = plt.subplots(1, len(images), figsize=(10, 2))\n",
    "    for img, label, ax in zip(images, labels, axes):\n",
    "        ax.imshow(img.squeeze(), cmap='gray')\n",
    "        ax.set_title(f'Label: {label}')\n",
    "        ax.axis('off')\n",
    "    plt.show()\n",
    "\n",
    "# Get a batch of images from the training data loader\n",
    "data_iter = iter(train_loader)\n",
    "images, labels = next(data_iter)\n",
    "\n",
    "# Display the first 5 images with its labels\n",
    "show_images(images[:5], labels[:5])"
   ]
  },
  {
   "cell_type": "code",
   "execution_count": 3,
   "id": "f8fe44c1",
   "metadata": {},
   "outputs": [
    {
     "name": "stdout",
     "output_type": "stream",
     "text": [
      "torch.Size([64, 1, 28, 28])\n"
     ]
    }
   ],
   "source": [
    "print(images.shape)"
   ]
  },
  {
   "cell_type": "markdown",
   "id": "e700a67e",
   "metadata": {},
   "source": [
    "## Defining a Neural Network\n",
    "In Pytorch, a model (in our case a neural network) is defined by a class that inherits `nn.Module`. This class works like a blueprint for a pytorch model and requires at least `__init__()` and `foward()` method implementations.\n",
    "\n",
    "### The constructor\n",
    "In `__init__()` we can define the layers of our model. In this example, we used the following architecture:\n",
    "\n",
    "- **1º Layer:** A fully connected layer (defined by `nn.Linear` class) for feature extraction **[784 -> 128]**;<br>\n",
    "- **ReLU:** A activation function for non-linearity **[128 -> 128]**;<br>\n",
    "- **2º Layer:** A fully connected layer for final classess features **[128 -> 10]**; <br>\n",
    "- **Softmax:** A activation function to classify the image **[10 -> 10]**.\n",
    "\n",
    "### foward()\n",
    "This method defines the execution order of a inference, from raw image to softmax classification."
   ]
  },
  {
   "cell_type": "code",
   "execution_count": 4,
   "id": "14418f32",
   "metadata": {},
   "outputs": [],
   "source": [
    "import torch.nn as nn\n",
    "\n",
    "class SimpleNN(nn.Module):\n",
    "    def __init__(self):\n",
    "        super(SimpleNN, self).__init__()\n",
    "        self.fc1 = nn.Linear(28 * 28, 128)\n",
    "        self.relu = nn.ReLU()\n",
    "        self.fc2 = nn.Linear(128, 10)\n",
    "        self.softmax = nn.LogSoftmax(dim=1)\n",
    "    \n",
    "    def forward(self, x):\n",
    "        x = x.view(-1, 28 * 28)  # Input must be a flat tensor\n",
    "        x = self.fc1(x)\n",
    "        x = self.relu(x)\n",
    "        x = self.fc2(x)\n",
    "        return self.softmax(x)\n",
    "\n",
    "model = SimpleNN()"
   ]
  },
  {
   "cell_type": "markdown",
   "id": "14141296",
   "metadata": {},
   "source": [
    "## Loss Function and Optmizer\n",
    "At this section we define\n",
    "- Negative Log-Likelihood Loss as our loss function;\n",
    "- Stochastic Gradient Descent as our optmizer\n",
    "\n",
    "`optim.SGD()` receives 3 parameters:\n",
    "- `model.parameters()`, defines that every trainable parameters will be optmized;\n",
    "- `lr=0.01`, defines that the learning step size will be 0.01 (big=-convertion; small=slow);\n",
    "- `momentum=0.9`, defines how much previous gradients affects a current step (0->1 | 0% to 100%). It is important to not stop at a local minimum"
   ]
  },
  {
   "cell_type": "code",
   "execution_count": 5,
   "id": "debcefd8",
   "metadata": {},
   "outputs": [],
   "source": [
    "import torch.optim as optim\n",
    "\n",
    "criterion = nn.NLLLoss()  # Negative Log-Likelihood Loss\n",
    "optimizer = optim.SGD(model.parameters(), lr=0.01, momentum=0.9)"
   ]
  },
  {
   "cell_type": "markdown",
   "id": "a312719b",
   "metadata": {},
   "source": [
    "## Training \n",
    "For each epoch, a training go through foward pass making infereces, calculates the errors with the loss functions, and adjust itself through backward pass\n",
    "\n",
    "- `optmizer.zero_grad()`: resets the gradients to zero (to avoid accumulation from previous steps);\n",
    "- `model(images)`: generates predictions from the input images;\n",
    "- `criterion(outputs, labels)`: computes the loss by comparing predictions with ground truth labels;\n",
    "- `loss.backward()`: computes gradients via backpropagation;\n",
    "- `optmizer.step()`: updates model weights based on the computed gradients;"
   ]
  },
  {
   "cell_type": "code",
   "execution_count": 6,
   "id": "7988a5ae",
   "metadata": {},
   "outputs": [
    {
     "name": "stdout",
     "output_type": "stream",
     "text": [
      "Epoch 1, Loss: 0.47106180781685214\n",
      "Epoch 2, Loss: 0.2348487160678929\n",
      "Epoch 3, Loss: 0.17474408296824517\n",
      "Epoch 4, Loss: 0.13803085089841885\n",
      "Epoch 5, Loss: 0.11493414242678424\n",
      "Training complete!\n"
     ]
    }
   ],
   "source": [
    "epochs = 5\n",
    "for epoch in range(epochs):\n",
    "    running_loss = 0.0\n",
    "    for images, labels in train_loader:\n",
    "        optimizer.zero_grad()\n",
    "\n",
    "        # Forward pass\n",
    "        outputs = model(images)\n",
    "        loss = criterion(outputs, labels)\n",
    "\n",
    "        # Backward pass and optimization\n",
    "        loss.backward()\n",
    "        optimizer.step()\n",
    "\n",
    "        running_loss += loss.item()\n",
    "    print(f'Epoch {epoch + 1}, Loss: {running_loss / len(train_loader)}')\n",
    "\n",
    "print(\"Training complete!\")"
   ]
  },
  {
   "cell_type": "markdown",
   "id": "76151672",
   "metadata": {},
   "source": [
    "# Validation"
   ]
  },
  {
   "cell_type": "markdown",
   "id": "d34da64e",
   "metadata": {},
   "source": [
    "For each batch of test data, uses the model to predicts a class. The prediction is the highest probability at the last layer (result of softmax activation), and is compared to the annotation. "
   ]
  },
  {
   "cell_type": "code",
   "execution_count": 7,
   "id": "8f9c6bb2",
   "metadata": {},
   "outputs": [
    {
     "name": "stdout",
     "output_type": "stream",
     "text": [
      "Accuracy on test set: 96.72%\n"
     ]
    }
   ],
   "source": [
    "correct = 0\n",
    "total = 0\n",
    "with torch.no_grad():\n",
    "    for images, labels in test_loader:\n",
    "        outputs = model(images)\n",
    "        _, predicted = torch.max(outputs, 1)\n",
    "        total += labels.size(0)\n",
    "        correct += (predicted == labels).sum().item()\n",
    "\n",
    "accuracy = 100 * correct / total\n",
    "print(f'Accuracy on test set: {accuracy:.2f}%')"
   ]
  }
 ],
 "metadata": {
  "kernelspec": {
   "display_name": "PowerRanger-env",
   "language": "python",
   "name": "python3"
  },
  "language_info": {
   "codemirror_mode": {
    "name": "ipython",
    "version": 3
   },
   "file_extension": ".py",
   "mimetype": "text/x-python",
   "name": "python",
   "nbconvert_exporter": "python",
   "pygments_lexer": "ipython3",
   "version": "3.12.11"
  }
 },
 "nbformat": 4,
 "nbformat_minor": 5
}
