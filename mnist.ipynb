{
 "cells": [
  {
   "cell_type": "code",
   "execution_count": 50,
   "id": "eecd4443",
   "metadata": {},
   "outputs": [
    {
     "name": "stdout",
     "output_type": "stream",
     "text": [
      "Formato das imagens: torch.Size([64, 1, 28, 28])\n",
      "Rótulos: tensor([0, 8, 9, 5, 0, 9, 6, 8, 2, 3])\n"
     ]
    }
   ],
   "source": [
    "import torch\n",
    "from torchvision import datasets, transforms\n",
    "from torch.utils.data import DataLoader\n",
    "\n",
    "# Transformações para normalizar o MNIST (0 a 1 e normalização)\n",
    "transform = transforms.Compose([\n",
    "    transforms.ToTensor(),  # converte para tensor e normaliza para [0,1]\n",
    "    transforms.Normalize((0.1307,), (0.3081,))  # média e desvio padrão do MNIST\n",
    "])\n",
    "\n",
    "# Baixar e carregar os dados de treino e teste\n",
    "train_dataset = datasets.MNIST(\n",
    "    root='./data', train=True, download=True, transform=transform\n",
    ")\n",
    "test_dataset = datasets.MNIST(\n",
    "    root='./data', train=False, download=True, transform=transform\n",
    ")\n",
    "\n",
    "# Criar os dataloaders\n",
    "train_loader = DataLoader(train_dataset, batch_size=64, shuffle=True)\n",
    "test_loader = DataLoader(test_dataset, batch_size=1000, shuffle=False)\n",
    "\n",
    "# Verificar um lote\n",
    "images, labels = next(iter(train_loader))\n",
    "print(f'Formato das imagens: {images.shape}')\n",
    "print(f'Rótulos: {labels[:10]}')\n"
   ]
  },
  {
   "cell_type": "code",
   "execution_count": 51,
   "id": "a58eb3bc",
   "metadata": {},
   "outputs": [
    {
     "data": {
      "image/png": "[encoded data removed]",
      "text/plain": [
       "<Figure size 640x480 with 1 Axes>"
      ]
     },
     "metadata": {},
     "output_type": "display_data"
    }
   ],
   "source": [
    "import matplotlib.pyplot as plt\n",
    "import random\n",
    "\n",
    "# Seleciona um índice aleatório\n",
    "idx = random.randint(0, len(train_dataset) - 1)\n",
    "\n",
    "# Pega a imagem e o rótulo correspondente\n",
    "image, label = train_dataset[idx]\n",
    "\n",
    "\n",
    "# Mostra a imagem\n",
    "plt.imshow(image.squeeze(), cmap='gray')\n",
    "plt.title(f'Label: {label}')\n",
    "plt.axis('off')\n",
    "plt.show()\n"
   ]
  }
 ],
 "metadata": {
  "kernelspec": {
   "display_name": "PowerRanger-env",
   "language": "python",
   "name": "python3"
  },
  "language_info": {
   "codemirror_mode": {
    "name": "ipython",
    "version": 3
   },
   "file_extension": ".py",
   "mimetype": "text/x-python",
   "name": "python",
   "nbconvert_exporter": "python",
   "pygments_lexer": "ipython3",
   "version": "3.12.11"
  }
 },
 "nbformat": 4,
 "nbformat_minor": 5
}
